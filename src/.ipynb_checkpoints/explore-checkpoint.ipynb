{
 "cells": [
  {
   "cell_type": "markdown",
   "metadata": {},
   "source": [
    "## Table of Content\n",
    "### Exploratory Data Analysis\n",
    "* [0. Importing Libraries](#c0)\n",
    "* [1. Problem statement and data collection](#c1)\n",
    "* [2. Exploration and data cleaning](#c2)\n",
    "    * [2.1 Understanding the features](#s21)\n",
    "    * [2.2 Identifying Duplicated and Null Values](#s22)\n",
    "    * [2.3 Eliminating Irrelevant Information and dealing with null values](#s23)\n",
    "* [3. Univariate Analysis](#c3)\n",
    "    * [3.1 Dividing our dataset into categorial and numerical.](#s31)\n",
    "    * [3.2 Categorical Variable Analysis](#s32) \n",
    "    * [3.3 Numerical Variable Analysis](#s33)\n",
    "* [4. Multivariate Analysis](#c4)\n",
    "    * [4.1 Encoding Categorical Values and Saving JSON files](#s41)\n",
    "    * [4.2 Numerical-Categorical Analysis (Correlation Analysis)](#s42)\n",
    "* [5. Feature Engineering](#c5)\n",
    "    * [5.1 New feature Inference](#s51)\n",
    "    * [5.2 Outlier Analysis](#s52)\n",
    "    * [5.3 Split train/test of both Data Frames](#s53)\n",
    "    * [5.4 Normalization](#s54)\n",
    "    * [5.5 Min-Max Scaling](#s55)\n",
    "* [6. Feature Selection](#c6)\n",
    "    * [6.1 Applying the Feature Filter to the Scaled Data Frames](#s61)\n",
    "    * [6.2 Saving the CSV files](#s62)\n",
    "### Machine Learning \n",
    "* [7.1 Decision Making: Which is the best dataset?](#s71)\n",
    "* [7.2 Model Optimization](#s72)"
   ]
  },
  {
   "cell_type": "markdown",
   "metadata": {},
   "source": [
    "## Exploratory Data Analysis (EDA) "
   ]
  },
  {
   "cell_type": "markdown",
   "metadata": {},
   "source": [
    "### 0. Importing Libraries <a class=\"anchor\" id=\"c0\"></a>"
   ]
  },
  {
   "cell_type": "code",
   "execution_count": 4,
   "metadata": {},
   "outputs": [],
   "source": [
    "# Your code here\n",
    "import pandas as pd \n",
    "import numpy as np \n",
    "import seaborn as sns \n",
    "import matplotlib.pyplot as plt \n",
    "\n",
    "import json\n",
    "from pickle import dump\n",
    "\n",
    "from sklearn.model_selection import train_test_split, RandomizedSearchCV, GridSearchCV\n",
    "from sklearn.preprocessing import StandardScaler, MinMaxScaler\n",
    "from sklearn.feature_selection import f_classif, SelectKBest\n",
    "from sklearn.metrics import accuracy_score\n",
    "from sklearn.ensemble import RandomForestClassifier\n",
    "\n",
    "import warnings\n",
    "def warn(*args, **kwargs):\n",
    "    pass\n",
    "warnings.warn = warn\n",
    "warnings.filterwarnings(\"ignore\", category=FutureWarning)\n",
    "pd.set_option('display.max_columns', None)"
   ]
  },
  {
   "cell_type": "markdown",
   "metadata": {},
   "source": [
    "### 1. Problem statement and data collection <a class=\"anchor\" id=\"c1\"></a>"
   ]
  },
  {
   "cell_type": "code",
   "execution_count": 6,
   "metadata": {},
   "outputs": [
    {
     "data": {
      "text/html": [
       "<div>\n",
       "<style scoped>\n",
       "    .dataframe tbody tr th:only-of-type {\n",
       "        vertical-align: middle;\n",
       "    }\n",
       "\n",
       "    .dataframe tbody tr th {\n",
       "        vertical-align: top;\n",
       "    }\n",
       "\n",
       "    .dataframe thead th {\n",
       "        text-align: right;\n",
       "    }\n",
       "</style>\n",
       "<table border=\"1\" class=\"dataframe\">\n",
       "  <thead>\n",
       "    <tr style=\"text-align: right;\">\n",
       "      <th></th>\n",
       "      <th>Pregnancies</th>\n",
       "      <th>Glucose</th>\n",
       "      <th>BloodPressure</th>\n",
       "      <th>SkinThickness</th>\n",
       "      <th>Insulin</th>\n",
       "      <th>BMI</th>\n",
       "      <th>DiabetesPedigreeFunction</th>\n",
       "      <th>Age</th>\n",
       "      <th>Outcome</th>\n",
       "    </tr>\n",
       "  </thead>\n",
       "  <tbody>\n",
       "    <tr>\n",
       "      <th>0</th>\n",
       "      <td>6</td>\n",
       "      <td>148</td>\n",
       "      <td>72</td>\n",
       "      <td>35</td>\n",
       "      <td>0</td>\n",
       "      <td>33.6</td>\n",
       "      <td>0.627</td>\n",
       "      <td>50</td>\n",
       "      <td>1</td>\n",
       "    </tr>\n",
       "    <tr>\n",
       "      <th>1</th>\n",
       "      <td>1</td>\n",
       "      <td>85</td>\n",
       "      <td>66</td>\n",
       "      <td>29</td>\n",
       "      <td>0</td>\n",
       "      <td>26.6</td>\n",
       "      <td>0.351</td>\n",
       "      <td>31</td>\n",
       "      <td>0</td>\n",
       "    </tr>\n",
       "    <tr>\n",
       "      <th>2</th>\n",
       "      <td>8</td>\n",
       "      <td>183</td>\n",
       "      <td>64</td>\n",
       "      <td>0</td>\n",
       "      <td>0</td>\n",
       "      <td>23.3</td>\n",
       "      <td>0.672</td>\n",
       "      <td>32</td>\n",
       "      <td>1</td>\n",
       "    </tr>\n",
       "  </tbody>\n",
       "</table>\n",
       "</div>"
      ],
      "text/plain": [
       "   Pregnancies  Glucose  BloodPressure  SkinThickness  Insulin   BMI  \\\n",
       "0            6      148             72             35        0  33.6   \n",
       "1            1       85             66             29        0  26.6   \n",
       "2            8      183             64              0        0  23.3   \n",
       "\n",
       "   DiabetesPedigreeFunction  Age  Outcome  \n",
       "0                     0.627   50        1  \n",
       "1                     0.351   31        0  \n",
       "2                     0.672   32        1  "
      ]
     },
     "execution_count": 6,
     "metadata": {},
     "output_type": "execute_result"
    }
   ],
   "source": [
    "df = pd.read_csv(\"../data/raw/diabetes.csv\")\n",
    "df.head(3)"
   ]
  },
  {
   "cell_type": "markdown",
   "metadata": {},
   "source": [
    "----------------------------------------------------------------"
   ]
  },
  {
   "cell_type": "markdown",
   "metadata": {},
   "source": [
    "### 2. Exploration and data cleaning <a class=\"anchor\" id=\"c2\"></a>"
   ]
  },
  {
   "cell_type": "markdown",
   "metadata": {},
   "source": [
    "#### 2.1 Understanding the features <a id=\"s21\"></a>\n",
    "- ```Pregnancies```: Number of pregnancies of the patient (numeric)\n",
    "- ```Glucose```: Plasma glucose concentration 2 hours after an oral glucose tolerance test (numeric)\n",
    "- ```BloodPressure```: Diastolic blood pressure (measured in mm Hg) (numeric)\n",
    "- ```SkinThickness```: Triceps skin fold thickness (measured in mm) (numeric)\n",
    "- ```Insulin```: 2-hour serum insulin (measured in mu U/ml) (numeric)\n",
    "- ```BMI```: Body mass index (numeric)\n",
    "- ```DiabetesPedigreeFunction```: Diabetes Pedigree Function (numeric)\n",
    "- ```Age```: Age of patient (numeric)\n",
    "- ```Outcome```: Class variable (0 or 1), being 0 negative in diabetes and 1 positive (numeric)"
   ]
  },
  {
   "cell_type": "code",
   "execution_count": 10,
   "metadata": {},
   "outputs": [
    {
     "name": "stdout",
     "output_type": "stream",
     "text": [
      "Our dataframe contains 768 rows and it has 9 features.\n"
     ]
    }
   ],
   "source": [
    "print('Our dataframe contains {} rows and it has {} features.'.format(len(df), df.shape[1]))"
   ]
  },
  {
   "cell_type": "markdown",
   "metadata": {},
   "source": [
    "----------------------------------------------------------------"
   ]
  },
  {
   "cell_type": "markdown",
   "metadata": {},
   "source": [
    "#### 2.2 Identifying Duplicated and Null Values <a id=\"s22\"></a>"
   ]
  },
  {
   "cell_type": "code",
   "execution_count": 13,
   "metadata": {},
   "outputs": [
    {
     "name": "stdout",
     "output_type": "stream",
     "text": [
      "<class 'pandas.core.frame.DataFrame'>\n",
      "RangeIndex: 768 entries, 0 to 767\n",
      "Data columns (total 9 columns):\n",
      " #   Column                    Non-Null Count  Dtype  \n",
      "---  ------                    --------------  -----  \n",
      " 0   Pregnancies               768 non-null    int64  \n",
      " 1   Glucose                   768 non-null    int64  \n",
      " 2   BloodPressure             768 non-null    int64  \n",
      " 3   SkinThickness             768 non-null    int64  \n",
      " 4   Insulin                   768 non-null    int64  \n",
      " 5   BMI                       768 non-null    float64\n",
      " 6   DiabetesPedigreeFunction  768 non-null    float64\n",
      " 7   Age                       768 non-null    int64  \n",
      " 8   Outcome                   768 non-null    int64  \n",
      "dtypes: float64(2), int64(7)\n",
      "memory usage: 54.1 KB\n"
     ]
    }
   ],
   "source": [
    "df.info()"
   ]
  },
  {
   "cell_type": "code",
   "execution_count": 14,
   "metadata": {},
   "outputs": [
    {
     "data": {
      "text/plain": [
       "Series([], dtype: int64)"
      ]
     },
     "execution_count": 14,
     "metadata": {},
     "output_type": "execute_result"
    }
   ],
   "source": [
    "df.isna().sum()[df.isna().sum()>0]"
   ]
  },
  {
   "cell_type": "markdown",
   "metadata": {},
   "source": [
    "##### Conclusions: \n",
    "We do not have any nulls neither duplicated values in the dataframe and we have categorical and numerical features. "
   ]
  },
  {
   "cell_type": "markdown",
   "metadata": {},
   "source": [
    "----------------------------------------------------------------"
   ]
  },
  {
   "cell_type": "markdown",
   "metadata": {},
   "source": [
    "##### 2.3 Eliminating Irrelevant Information and dealing with null values <a id=\"s23\"></a>"
   ]
  },
  {
   "cell_type": "markdown",
   "metadata": {},
   "source": [
    "For this dataset, we will retain all features, as we believe each one plays an important role in predicting the target."
   ]
  },
  {
   "cell_type": "markdown",
   "metadata": {},
   "source": [
    "----------------------------------------------------------------"
   ]
  },
  {
   "cell_type": "markdown",
   "metadata": {},
   "source": [
    "### 3. Univariate Analysis <a class=\"anchor\" id=\"c3\"></a>"
   ]
  },
  {
   "cell_type": "markdown",
   "metadata": {},
   "source": [
    "#### 3.1 Dividing our dataset into categorial and numerical. <a id=\"s31\"></a>"
   ]
  },
  {
   "cell_type": "code",
   "execution_count": 22,
   "metadata": {},
   "outputs": [
    {
     "data": {
      "text/plain": [
       "array([dtype('int64'), dtype('float64')], dtype=object)"
      ]
     },
     "execution_count": 22,
     "metadata": {},
     "output_type": "execute_result"
    }
   ],
   "source": [
    "# Understanding how many type of features we have\n",
    "df.dtypes.unique()"
   ]
  },
  {
   "cell_type": "markdown",
   "metadata": {},
   "source": [
    "----------------------------------------------------------------"
   ]
  },
  {
   "cell_type": "markdown",
   "metadata": {},
   "source": [
    "#### 3.2 Categorical Variable Analysis <a id=\"s32\"></a>"
   ]
  },
  {
   "cell_type": "code",
   "execution_count": 25,
   "metadata": {},
   "outputs": [],
   "source": [
    "df_enc = df.copy()"
   ]
  },
  {
   "cell_type": "markdown",
   "metadata": {},
   "source": [
    "Since our dataset contains only numerical variables, categorical analysis is not applicable."
   ]
  },
  {
   "cell_type": "markdown",
   "metadata": {},
   "source": [
    "---------------------------------------------------------------"
   ]
  },
  {
   "cell_type": "code",
   "execution_count": 28,
   "metadata": {},
   "outputs": [
    {
     "data": {
      "text/html": [
       "<div>\n",
       "<style scoped>\n",
       "    .dataframe tbody tr th:only-of-type {\n",
       "        vertical-align: middle;\n",
       "    }\n",
       "\n",
       "    .dataframe tbody tr th {\n",
       "        vertical-align: top;\n",
       "    }\n",
       "\n",
       "    .dataframe thead th {\n",
       "        text-align: right;\n",
       "    }\n",
       "</style>\n",
       "<table border=\"1\" class=\"dataframe\">\n",
       "  <thead>\n",
       "    <tr style=\"text-align: right;\">\n",
       "      <th></th>\n",
       "      <th>Pregnancies</th>\n",
       "      <th>Glucose</th>\n",
       "      <th>BloodPressure</th>\n",
       "      <th>SkinThickness</th>\n",
       "      <th>Insulin</th>\n",
       "      <th>BMI</th>\n",
       "      <th>DiabetesPedigreeFunction</th>\n",
       "      <th>Age</th>\n",
       "      <th>Outcome</th>\n",
       "    </tr>\n",
       "  </thead>\n",
       "  <tbody>\n",
       "    <tr>\n",
       "      <th>0</th>\n",
       "      <td>6</td>\n",
       "      <td>148</td>\n",
       "      <td>72</td>\n",
       "      <td>35</td>\n",
       "      <td>0</td>\n",
       "      <td>33.6</td>\n",
       "      <td>0.627</td>\n",
       "      <td>50</td>\n",
       "      <td>1</td>\n",
       "    </tr>\n",
       "    <tr>\n",
       "      <th>1</th>\n",
       "      <td>1</td>\n",
       "      <td>85</td>\n",
       "      <td>66</td>\n",
       "      <td>29</td>\n",
       "      <td>0</td>\n",
       "      <td>26.6</td>\n",
       "      <td>0.351</td>\n",
       "      <td>31</td>\n",
       "      <td>0</td>\n",
       "    </tr>\n",
       "    <tr>\n",
       "      <th>2</th>\n",
       "      <td>8</td>\n",
       "      <td>183</td>\n",
       "      <td>64</td>\n",
       "      <td>0</td>\n",
       "      <td>0</td>\n",
       "      <td>23.3</td>\n",
       "      <td>0.672</td>\n",
       "      <td>32</td>\n",
       "      <td>1</td>\n",
       "    </tr>\n",
       "  </tbody>\n",
       "</table>\n",
       "</div>"
      ],
      "text/plain": [
       "   Pregnancies  Glucose  BloodPressure  SkinThickness  Insulin   BMI  \\\n",
       "0            6      148             72             35        0  33.6   \n",
       "1            1       85             66             29        0  26.6   \n",
       "2            8      183             64              0        0  23.3   \n",
       "\n",
       "   DiabetesPedigreeFunction  Age  Outcome  \n",
       "0                     0.627   50        1  \n",
       "1                     0.351   31        0  \n",
       "2                     0.672   32        1  "
      ]
     },
     "execution_count": 28,
     "metadata": {},
     "output_type": "execute_result"
    }
   ],
   "source": [
    "df_enc.head(3)"
   ]
  },
  {
   "cell_type": "markdown",
   "metadata": {},
   "source": [
    "#### 3.3 Numerical Variable Analysis <a id=\"s33\"></a>"
   ]
  },
  {
   "cell_type": "code",
   "execution_count": 30,
   "metadata": {},
   "outputs": [
    {
     "data": {
      "image/png": "[encoded data removed]",
      "text/plain": [
       "<Figure size 1000x1200 with 16 Axes>"
      ]
     },
     "metadata": {},
     "output_type": "display_data"
    }
   ],
   "source": [
    "fig, ax = plt.subplots(8, 2, figsize=(10, 12), gridspec_kw={'height_ratios': [6, 1, 6, 1, 6, 1, 6, 1]})\n",
    "\n",
    "# Charts first row \n",
    "sns.histplot(ax = ax[0,0], data = df_enc, x='Pregnancies')\n",
    "sns.boxplot(ax = ax[1,0], data = df_enc, x='Pregnancies').set(xlabel = None)\n",
    "sns.histplot(ax = ax[0,1], data = df_enc, x='Glucose').set(ylabel = None)\n",
    "sns.boxplot(ax = ax[1,1], data = df_enc, x='Glucose').set(xlabel = None)\n",
    "\n",
    "# Charts second row \n",
    "sns.histplot(ax = ax[2,0], data = df_enc, x='BloodPressure')\n",
    "sns.boxplot(ax = ax[3,0], data = df_enc, x='BloodPressure').set(xlabel = None)\n",
    "sns.histplot(ax = ax[2,1], data = df_enc, x='SkinThickness').set(ylabel = None)\n",
    "sns.boxplot(ax = ax[3,1], data = df_enc, x='SkinThickness').set(xlabel = None)\n",
    "\n",
    "# Charts third row\n",
    "sns.histplot(ax = ax[4,0], data = df_enc, x='Insulin')\n",
    "sns.boxplot(ax = ax[5,0], data = df_enc, x='Insulin').set(xlabel = None)\n",
    "sns.histplot(ax = ax[4,1], data = df_enc, x='BMI').set(ylabel = None)\n",
    "sns.boxplot(ax = ax[5,1], data = df_enc, x='BMI').set(xlabel = None)\n",
    "\n",
    "#\n",
    "sns.histplot(ax = ax[6,0], data = df_enc, x='DiabetesPedigreeFunction')\n",
    "sns.boxplot(ax = ax[7,0], data = df_enc, x='DiabetesPedigreeFunction').set(xlabel = None)\n",
    "sns.histplot(ax = ax[6,1], data = df_enc, x='Age').set(ylabel = None)\n",
    "sns.boxplot(ax = ax[7,1], data = df_enc, x='Age').set(xlabel = None)\n",
    "\n",
    "plt.tight_layout()\n",
    "plt.show()"
   ]
  },
  {
   "cell_type": "markdown",
   "metadata": {},
   "source": [
    "##### Conclusions\n",
    "- Right-Skewed Distributions: Variables like ```Pregnancies```, ```Insulin```, ```DiabetesPedigreeFunction```, and Age show right-skewed distributions, with most observations clustered on the lower end and a few outliers at higher values. This indicates that for these variables, high values are rare among the data samples.\n",
    "\n",
    "- Normal-Like Distributions: Some features, such as ```BloodPressure```, ```SkinThickness```, ```BMI```, and ```Glucose```, exhibit distributions that are closer to a normal (bell-shaped) distribution, suggesting that these measurements are more evenly spread around a central value, with fewer extreme values.\n",
    "\n",
    "- Outliers: Every boxplot highlights the presence of outliers, especially in ```Insulin```, ```DiabetesPedigreeFunction```, and ```Pregnancies```. \n",
    "\n",
    "- Zero Values: Several variables, particularly ```Insulin```, ```SkinThickness```, and ```BloodPressure```, have a significant number of zero values, which may indicate missing data or placeholders rather than true zero measurements. \n",
    "\n",
    "- Age Distribution: The ```Age``` variable is skewed towards younger individuals, with most values between 20 and 40, indicating a younger population in this dataset. There are fewer older individuals, which could influence the analysis, especially if age-related factors are relevant."
   ]
  },
  {
   "cell_type": "markdown",
   "metadata": {},
   "source": [
    "----------------------------------------------------------------"
   ]
  },
  {
   "cell_type": "markdown",
   "metadata": {},
   "source": [
    "### 4. Multivariate Analysis <a class=\"anchor\" id=\"c4\"></a>"
   ]
  },
  {
   "cell_type": "markdown",
   "metadata": {},
   "source": [
    "#### 4.1 Encoding Categorical Values and Saving JSON files <a id=\"s41\"></a>"
   ]
  },
  {
   "cell_type": "markdown",
   "metadata": {},
   "source": [
    "Since our dataset contains only numerical variables, encoding categorical values is not applicable."
   ]
  },
  {
   "cell_type": "markdown",
   "metadata": {},
   "source": [
    "----------------------------------------------------------------"
   ]
  },
  {
   "cell_type": "markdown",
   "metadata": {},
   "source": [
    "#### 4.2 Numerical-Categorical Analysis (Correlation Analysis) <a id=\"s42\"></a>"
   ]
  },
  {
   "cell_type": "code",
   "execution_count": 38,
   "metadata": {},
   "outputs": [
    {
     "data": {
      "image/png": "[encoded data removed]",
      "text/plain": [
       "<Figure size 1400x1000 with 2 Axes>"
      ]
     },
     "metadata": {},
     "output_type": "display_data"
    }
   ],
   "source": [
    "plt.figure(figsize=(14,10))\n",
    "sns.heatmap(df_enc.corr().round(2), annot=True, mask=np.triu(df_enc.corr()))\n",
    "plt.show()"
   ]
  },
  {
   "cell_type": "markdown",
   "metadata": {},
   "source": [
    "###### Conclusions:\n",
    "- Strongest Correlation with Outcome: The Outcome variable has the strongest correlation with ```Glucose``` (0.47), followed by ```BMI``` (0.29), ```Age``` (0.24), and ```DiabetesPedigreeFunction``` (0.17). This suggests that higher glucose levels, BMI, age, and diabetes pedigree function are more associated with a positive diabetes outcome, which aligns with known risk factors for diabetes.\n",
    "\n",
    "- Age and Pregnancies: There is a moderate positive correlation between ```Age``` and ```Pregnancies``` (0.54), indicating that older individuals tend to have had more pregnancies. This is reasonable, as age often correlates with life experiences, including pregnancy.\n",
    "\n",
    "- Insulin and Glucose: ```Insulin``` shows a moderate positive correlation with ```Glucose``` (0.33), suggesting that higher glucose levels may be associated with higher insulin levels. \n",
    "\n",
    "- BMI Correlations: ```BMI``` has moderate correlations with ```Insulin``` (0.39), ```SkinThickness``` (0.28), and ```Glucose``` (0.22). This could indicate that individuals with higher BMI also tend to have higher insulin levels, thicker skin folds, and glucose levels, reflecting potential markers of metabolic health."
   ]
  },
  {
   "cell_type": "markdown",
   "metadata": {},
   "source": [
    "-------------------------------------------------------"
   ]
  },
  {
   "cell_type": "markdown",
   "metadata": {},
   "source": [
    "### 5. Feature Engineering <a class=\"anchor\" id=\"c5\"></a>"
   ]
  },
  {
   "cell_type": "markdown",
   "metadata": {},
   "source": [
    "#### 5.1 New feature Inference <a id=\"s51\"></a>"
   ]
  },
  {
   "cell_type": "markdown",
   "metadata": {},
   "source": [
    "No new features will be created in this analysis, as the current set of variables is deemed sufficient for accurately capturing the relationships and insights needed for predicting medical conditions."
   ]
  },
  {
   "cell_type": "markdown",
   "metadata": {},
   "source": [
    "-------------------------------------------------------"
   ]
  },
  {
   "cell_type": "markdown",
   "metadata": {},
   "source": [
    "#### 5.2 Outlier Analysis <a id=\"s52\"></a>"
   ]
  },
  {
   "cell_type": "markdown",
   "metadata": {},
   "source": [
    "Perform an outlier analysis exclusively on continuous features; outliers in discrete features should be addressed separately without changing their data. "
   ]
  },
  {
   "cell_type": "code",
   "execution_count": 47,
   "metadata": {},
   "outputs": [
    {
     "data": {
      "text/html": [
       "<div>\n",
       "<style scoped>\n",
       "    .dataframe tbody tr th:only-of-type {\n",
       "        vertical-align: middle;\n",
       "    }\n",
       "\n",
       "    .dataframe tbody tr th {\n",
       "        vertical-align: top;\n",
       "    }\n",
       "\n",
       "    .dataframe thead th {\n",
       "        text-align: right;\n",
       "    }\n",
       "</style>\n",
       "<table border=\"1\" class=\"dataframe\">\n",
       "  <thead>\n",
       "    <tr style=\"text-align: right;\">\n",
       "      <th></th>\n",
       "      <th>Pregnancies</th>\n",
       "      <th>Glucose</th>\n",
       "      <th>BloodPressure</th>\n",
       "      <th>SkinThickness</th>\n",
       "      <th>Insulin</th>\n",
       "      <th>BMI</th>\n",
       "      <th>DiabetesPedigreeFunction</th>\n",
       "      <th>Age</th>\n",
       "      <th>Outcome</th>\n",
       "    </tr>\n",
       "  </thead>\n",
       "  <tbody>\n",
       "    <tr>\n",
       "      <th>count</th>\n",
       "      <td>768.00</td>\n",
       "      <td>768.00</td>\n",
       "      <td>768.00</td>\n",
       "      <td>768.00</td>\n",
       "      <td>768.00</td>\n",
       "      <td>768.00</td>\n",
       "      <td>768.00</td>\n",
       "      <td>768.00</td>\n",
       "      <td>768.00</td>\n",
       "    </tr>\n",
       "    <tr>\n",
       "      <th>mean</th>\n",
       "      <td>3.85</td>\n",
       "      <td>120.89</td>\n",
       "      <td>69.11</td>\n",
       "      <td>20.54</td>\n",
       "      <td>79.80</td>\n",
       "      <td>31.99</td>\n",
       "      <td>0.47</td>\n",
       "      <td>33.24</td>\n",
       "      <td>0.35</td>\n",
       "    </tr>\n",
       "    <tr>\n",
       "      <th>std</th>\n",
       "      <td>3.37</td>\n",
       "      <td>31.97</td>\n",
       "      <td>19.36</td>\n",
       "      <td>15.95</td>\n",
       "      <td>115.24</td>\n",
       "      <td>7.88</td>\n",
       "      <td>0.33</td>\n",
       "      <td>11.76</td>\n",
       "      <td>0.48</td>\n",
       "    </tr>\n",
       "    <tr>\n",
       "      <th>min</th>\n",
       "      <td>0.00</td>\n",
       "      <td>0.00</td>\n",
       "      <td>0.00</td>\n",
       "      <td>0.00</td>\n",
       "      <td>0.00</td>\n",
       "      <td>0.00</td>\n",
       "      <td>0.08</td>\n",
       "      <td>21.00</td>\n",
       "      <td>0.00</td>\n",
       "    </tr>\n",
       "    <tr>\n",
       "      <th>25%</th>\n",
       "      <td>1.00</td>\n",
       "      <td>99.00</td>\n",
       "      <td>62.00</td>\n",
       "      <td>0.00</td>\n",
       "      <td>0.00</td>\n",
       "      <td>27.30</td>\n",
       "      <td>0.24</td>\n",
       "      <td>24.00</td>\n",
       "      <td>0.00</td>\n",
       "    </tr>\n",
       "    <tr>\n",
       "      <th>50%</th>\n",
       "      <td>3.00</td>\n",
       "      <td>117.00</td>\n",
       "      <td>72.00</td>\n",
       "      <td>23.00</td>\n",
       "      <td>30.50</td>\n",
       "      <td>32.00</td>\n",
       "      <td>0.37</td>\n",
       "      <td>29.00</td>\n",
       "      <td>0.00</td>\n",
       "    </tr>\n",
       "    <tr>\n",
       "      <th>75%</th>\n",
       "      <td>6.00</td>\n",
       "      <td>140.25</td>\n",
       "      <td>80.00</td>\n",
       "      <td>32.00</td>\n",
       "      <td>127.25</td>\n",
       "      <td>36.60</td>\n",
       "      <td>0.63</td>\n",
       "      <td>41.00</td>\n",
       "      <td>1.00</td>\n",
       "    </tr>\n",
       "    <tr>\n",
       "      <th>max</th>\n",
       "      <td>17.00</td>\n",
       "      <td>199.00</td>\n",
       "      <td>122.00</td>\n",
       "      <td>99.00</td>\n",
       "      <td>846.00</td>\n",
       "      <td>67.10</td>\n",
       "      <td>2.42</td>\n",
       "      <td>81.00</td>\n",
       "      <td>1.00</td>\n",
       "    </tr>\n",
       "  </tbody>\n",
       "</table>\n",
       "</div>"
      ],
      "text/plain": [
       "       Pregnancies  Glucose  BloodPressure  SkinThickness  Insulin     BMI  \\\n",
       "count       768.00   768.00         768.00         768.00   768.00  768.00   \n",
       "mean          3.85   120.89          69.11          20.54    79.80   31.99   \n",
       "std           3.37    31.97          19.36          15.95   115.24    7.88   \n",
       "min           0.00     0.00           0.00           0.00     0.00    0.00   \n",
       "25%           1.00    99.00          62.00           0.00     0.00   27.30   \n",
       "50%           3.00   117.00          72.00          23.00    30.50   32.00   \n",
       "75%           6.00   140.25          80.00          32.00   127.25   36.60   \n",
       "max          17.00   199.00         122.00          99.00   846.00   67.10   \n",
       "\n",
       "       DiabetesPedigreeFunction     Age  Outcome  \n",
       "count                    768.00  768.00   768.00  \n",
       "mean                       0.47   33.24     0.35  \n",
       "std                        0.33   11.76     0.48  \n",
       "min                        0.08   21.00     0.00  \n",
       "25%                        0.24   24.00     0.00  \n",
       "50%                        0.37   29.00     0.00  \n",
       "75%                        0.63   41.00     1.00  \n",
       "max                        2.42   81.00     1.00  "
      ]
     },
     "execution_count": 47,
     "metadata": {},
     "output_type": "execute_result"
    }
   ],
   "source": [
    "df_enc.describe().round(2)"
   ]
  },
  {
   "cell_type": "code",
   "execution_count": 48,
   "metadata": {},
   "outputs": [
    {
     "data": {
      "image/png": "[encoded data removed]",
      "text/plain": [
       "<Figure size 1000x400 with 2 Axes>"
      ]
     },
     "metadata": {},
     "output_type": "display_data"
    }
   ],
   "source": [
    "continuos_f = list(df_enc.select_dtypes('float64'))\n",
    "\n",
    "fig, ax = plt.subplots(1,2, figsize=(10, 4))\n",
    "\n",
    "col=0\n",
    "for each in continuos_f:\n",
    "    sns.boxplot(ax = ax[col], data = df_enc, x=each)\n",
    "    col += 1\n",
    "\n",
    "plt.tight_layout()\n",
    "plt.show()"
   ]
  },
  {
   "cell_type": "markdown",
   "metadata": {},
   "source": [
    "We will calculate the outlier limits for all continuous features and use them to create a new dataframe without outliers (```df_enc_no```). This outlier-free dataset will be used to train our model and compare performance, helping us identify the best approach."
   ]
  },
  {
   "cell_type": "code",
   "execution_count": 50,
   "metadata": {},
   "outputs": [],
   "source": [
    "# Creating a copy of our df to remove outliers \n",
    "df_enc_no = df_enc.copy()"
   ]
  },
  {
   "cell_type": "code",
   "execution_count": 51,
   "metadata": {},
   "outputs": [],
   "source": [
    "# This function returns our new df without outliers and the features' limits.  \n",
    "def remove_outliers(x, feature_name, allow_neg=True):\n",
    "    q1, q3 = x.quantile([0.25, 0.75])\n",
    "    iqr = q3 - q1\n",
    "    upper_lim = q3 + (iqr*1.5)\n",
    "    lower_lim = q1 - (iqr*1.5) if allow_neg else max(0, q1 - (iqr * 1.5))\n",
    "\n",
    "    x = x.apply(lambda x: upper_lim if (x > upper_lim) else (lower_lim if (x < lower_lim) else x))\n",
    "\n",
    "    filename = f'../data/interim/outliers_lims_{feature_name}.json'\n",
    "    json.dump({'upper_lim': upper_lim, 'lower_lim': lower_lim}, open(filename, 'w'))\n",
    "\n",
    "    return x"
   ]
  },
  {
   "cell_type": "code",
   "execution_count": 52,
   "metadata": {},
   "outputs": [],
   "source": [
    "f_outliers_with_neg = []\n",
    "f_outliers_no_neg = []\n",
    "\n",
    "for each in continuos_f:\n",
    "    if df_enc[each].min() < 0:\n",
    "        f_outliers_with_neg.append(each)\n",
    "    f_outliers_no_neg.append(each)\n",
    "\n",
    "for feature in f_outliers_with_neg:\n",
    "    df_enc_no[feature] = remove_outliers(df_enc_no[feature], feature)\n",
    "\n",
    "for feature in f_outliers_no_neg:\n",
    "    df_enc_no[feature] = remove_outliers(df_enc_no[feature], feature, allow_neg=False)"
   ]
  },
  {
   "cell_type": "markdown",
   "metadata": {},
   "source": [
    "--------------------------------------------------------"
   ]
  },
  {
   "cell_type": "markdown",
   "metadata": {},
   "source": [
    "#### 5.3 Split train/test of both Data Frames <a id=\"s53\"></a>"
   ]
  },
  {
   "cell_type": "code",
   "execution_count": 55,
   "metadata": {},
   "outputs": [],
   "source": [
    "def split(target, df, test_size=0.2, random_state=123):\n",
    "    X = df.drop(columns=target)\n",
    "    y = df[target]\n",
    "\n",
    "    X_train, X_test, y_train, y_test = train_test_split(X, y, test_size=test_size, random_state=random_state)\n",
    "    return X_train, X_test, y_train, y_test"
   ]
  },
  {
   "cell_type": "markdown",
   "metadata": {},
   "source": [
    "Now, we split our data into train and test sets using the function ```split``` created earlier. This will be for all necessary data frames created earlier (original, normalized, and min-max scaled for both, with outliers and without outliers)."
   ]
  },
  {
   "cell_type": "code",
   "execution_count": 57,
   "metadata": {},
   "outputs": [],
   "source": [
    "# Split original dataframe \n",
    "X_train_with_outliers, X_test_with_outliers, y_train, y_test = split('Outcome', df_enc)\n",
    "X_train_without_outliers, X_test_without_outliers, _, _ = split('Outcome', df_enc_no)\n",
    "\n",
    "X_train_with_outliers.to_csv('../data/processed/X_train_with_outliers.csv', index=False)\n",
    "X_test_with_outliers.to_csv('../data/processed/X_test_with_outliers.csv', index=False)\n",
    "X_train_without_outliers.to_csv('../data/processed/X_train_without_outliers.csv', index=False)\n",
    "X_test_without_outliers.to_csv('../data/processed/X_test_without_outliers.csv', index=False)\n",
    "\n",
    "y_train.to_csv('../data/processed/y_train.csv', index=False)\n",
    "y_test.to_csv('../data/processed/y_test.csv', index=False)"
   ]
  },
  {
   "cell_type": "code",
   "execution_count": 58,
   "metadata": {},
   "outputs": [
    {
     "data": {
      "text/html": [
       "<div>\n",
       "<style scoped>\n",
       "    .dataframe tbody tr th:only-of-type {\n",
       "        vertical-align: middle;\n",
       "    }\n",
       "\n",
       "    .dataframe tbody tr th {\n",
       "        vertical-align: top;\n",
       "    }\n",
       "\n",
       "    .dataframe thead th {\n",
       "        text-align: right;\n",
       "    }\n",
       "</style>\n",
       "<table border=\"1\" class=\"dataframe\">\n",
       "  <thead>\n",
       "    <tr style=\"text-align: right;\">\n",
       "      <th></th>\n",
       "      <th>Pregnancies</th>\n",
       "      <th>Glucose</th>\n",
       "      <th>BloodPressure</th>\n",
       "      <th>SkinThickness</th>\n",
       "      <th>Insulin</th>\n",
       "      <th>BMI</th>\n",
       "      <th>DiabetesPedigreeFunction</th>\n",
       "      <th>Age</th>\n",
       "    </tr>\n",
       "  </thead>\n",
       "  <tbody>\n",
       "    <tr>\n",
       "      <th>236</th>\n",
       "      <td>7</td>\n",
       "      <td>181</td>\n",
       "      <td>84</td>\n",
       "      <td>21</td>\n",
       "      <td>192</td>\n",
       "      <td>35.9</td>\n",
       "      <td>0.586</td>\n",
       "      <td>51</td>\n",
       "    </tr>\n",
       "    <tr>\n",
       "      <th>395</th>\n",
       "      <td>2</td>\n",
       "      <td>127</td>\n",
       "      <td>58</td>\n",
       "      <td>24</td>\n",
       "      <td>275</td>\n",
       "      <td>27.7</td>\n",
       "      <td>1.600</td>\n",
       "      <td>25</td>\n",
       "    </tr>\n",
       "    <tr>\n",
       "      <th>36</th>\n",
       "      <td>11</td>\n",
       "      <td>138</td>\n",
       "      <td>76</td>\n",
       "      <td>0</td>\n",
       "      <td>0</td>\n",
       "      <td>33.2</td>\n",
       "      <td>0.420</td>\n",
       "      <td>35</td>\n",
       "    </tr>\n",
       "    <tr>\n",
       "      <th>210</th>\n",
       "      <td>2</td>\n",
       "      <td>81</td>\n",
       "      <td>60</td>\n",
       "      <td>22</td>\n",
       "      <td>0</td>\n",
       "      <td>27.7</td>\n",
       "      <td>0.290</td>\n",
       "      <td>25</td>\n",
       "    </tr>\n",
       "    <tr>\n",
       "      <th>483</th>\n",
       "      <td>0</td>\n",
       "      <td>84</td>\n",
       "      <td>82</td>\n",
       "      <td>31</td>\n",
       "      <td>125</td>\n",
       "      <td>38.2</td>\n",
       "      <td>0.233</td>\n",
       "      <td>23</td>\n",
       "    </tr>\n",
       "  </tbody>\n",
       "</table>\n",
       "</div>"
      ],
      "text/plain": [
       "     Pregnancies  Glucose  BloodPressure  SkinThickness  Insulin   BMI  \\\n",
       "236            7      181             84             21      192  35.9   \n",
       "395            2      127             58             24      275  27.7   \n",
       "36            11      138             76              0        0  33.2   \n",
       "210            2       81             60             22        0  27.7   \n",
       "483            0       84             82             31      125  38.2   \n",
       "\n",
       "     DiabetesPedigreeFunction  Age  \n",
       "236                     0.586   51  \n",
       "395                     1.600   25  \n",
       "36                      0.420   35  \n",
       "210                     0.290   25  \n",
       "483                     0.233   23  "
      ]
     },
     "execution_count": 58,
     "metadata": {},
     "output_type": "execute_result"
    }
   ],
   "source": [
    "X_test_with_outliers.head()"
   ]
  },
  {
   "cell_type": "markdown",
   "metadata": {},
   "source": [
    "--------------------------------------------------------"
   ]
  },
  {
   "cell_type": "markdown",
   "metadata": {},
   "source": [
    "#### 5.4 Normalization <a id=\"s54\"></a>"
   ]
  },
  {
   "cell_type": "code",
   "execution_count": 61,
   "metadata": {},
   "outputs": [],
   "source": [
    "def norm(X_train, X_test, reference: str):\n",
    "    scaler = StandardScaler()\n",
    "    scaler.fit(X_train)\n",
    "    \n",
    "    X_train_norm = scaler.transform(X_train)\n",
    "    X_train_norm = pd.DataFrame(X_train_norm, index=X_train.index, columns=X_train.columns)\n",
    "\n",
    "    X_test_norm = scaler.transform(X_test)\n",
    "    X_test_norm = pd.DataFrame(X_test_norm, index=X_test.index, columns=X_test.columns)\n",
    "\n",
    "    dump(scaler, open(f'../data/processed/normalized_{reference}.sav', 'wb'))\n",
    "\n",
    "    return X_train_norm, X_test_norm"
   ]
  },
  {
   "cell_type": "code",
   "execution_count": 62,
   "metadata": {},
   "outputs": [],
   "source": [
    "X_train_with_outliers_norm, X_test_with_outliers_norm = norm(X_train_with_outliers, X_test_with_outliers, 'with_outliers')\n",
    "X_train_without_outliers_norm, X_test_without_outliers_norm = norm(X_train_without_outliers, X_test_without_outliers, 'without_outliers')"
   ]
  },
  {
   "cell_type": "markdown",
   "metadata": {},
   "source": [
    "--------------------------------------------------------"
   ]
  },
  {
   "cell_type": "markdown",
   "metadata": {},
   "source": [
    "#### 5.5 Min-Max Scaling <a id=\"s55\"></a>"
   ]
  },
  {
   "cell_type": "code",
   "execution_count": 65,
   "metadata": {},
   "outputs": [],
   "source": [
    "def minmax(X_train, X_test, reference: str):\n",
    "    scaler = MinMaxScaler()\n",
    "    scaler.fit(X_train)\n",
    "    \n",
    "    X_train_minmax = scaler.transform(X_train)\n",
    "    X_train_minmax = pd.DataFrame(X_train_minmax, index = X_train.index, columns=X_train.columns)\n",
    "\n",
    "    X_test_minmax = scaler.transform(X_test)\n",
    "    X_test_minmax = pd.DataFrame(X_test_minmax, index = X_test.index, columns=X_test.columns)\n",
    "    \n",
    "    dump(scaler, open(f'../data/processed/minmax_{reference}.sav', 'wb'))\n",
    "\n",
    "    return X_train_minmax, X_test_minmax"
   ]
  },
  {
   "cell_type": "code",
   "execution_count": 66,
   "metadata": {},
   "outputs": [],
   "source": [
    "X_train_with_outliers_minmax, X_test_with_outliers_minmax = minmax(X_train_with_outliers, X_test_with_outliers, 'with_outliers')\n",
    "X_train_without_outliers_minmax, X_test_without_outliers_minmax = minmax(X_train_without_outliers, X_test_without_outliers, 'without_outliers')"
   ]
  },
  {
   "cell_type": "markdown",
   "metadata": {},
   "source": [
    "--------------------------------------------------------"
   ]
  },
  {
   "cell_type": "markdown",
   "metadata": {},
   "source": [
    "### 6. Feature Selection <a class=\"anchor\" id=\"c6\"></a>"
   ]
  },
  {
   "cell_type": "code",
   "execution_count": 69,
   "metadata": {},
   "outputs": [],
   "source": [
    "def kselection(X_train, X_test, y_train, k, reference: str):\n",
    "    selection_model = SelectKBest(f_classif, k=k)\n",
    "    selection_model.fit(X_train, y_train)\n",
    "    cols = selection_model.get_support()\n",
    "\n",
    "    X_train_sel = pd.DataFrame(selection_model.transform(X_train), columns=X_train.columns.values[cols]) \n",
    "    X_test_sel = pd.DataFrame(selection_model.transform(X_test), columns=X_test.columns.values[cols])\n",
    "\n",
    "    dump(selection_model, open(f'../data/processed/selection_model_{reference}.sav', 'wb'))\n",
    "\n",
    "    return X_train_sel, X_test_sel  "
   ]
  },
  {
   "cell_type": "code",
   "execution_count": 70,
   "metadata": {},
   "outputs": [],
   "source": [
    "X_train_with_outliers_sel, X_test_with_outliers_sel = kselection(X_train_with_outliers, X_test_with_outliers, y_train, 'all', 'with_outliers')\n",
    "X_train_without_outliers_sel, X_test_without_outliers_sel = kselection(X_train_without_outliers, X_test_without_outliers, y_train, 'all', 'without_outliers')"
   ]
  },
  {
   "cell_type": "markdown",
   "metadata": {},
   "source": [
    "#### 6.1 Applying the Feature Filter to the Scaled Data Frames <a id=\"s61\"></a>"
   ]
  },
  {
   "cell_type": "code",
   "execution_count": 72,
   "metadata": {},
   "outputs": [],
   "source": [
    "X_train_with_outliers_norm_sel = X_train_with_outliers_norm[X_train_with_outliers_sel.columns]\n",
    "X_train_without_outliers_norm_sel = X_train_without_outliers_norm[X_train_with_outliers_sel.columns]\n",
    "\n",
    "X_test_with_outliers_norm_sel = X_test_with_outliers_norm[X_test_with_outliers_sel.columns]\n",
    "X_test_without_outliers_norm_sel = X_test_without_outliers_norm[X_test_with_outliers_sel.columns]\n",
    "\n",
    "X_train_with_outliers_minmax_sel = X_train_with_outliers_minmax[X_train_with_outliers_sel.columns]\n",
    "X_train_without_outliers_minmax_sel = X_train_without_outliers_minmax[X_train_without_outliers_sel.columns]\n",
    "\n",
    "X_test_with_outliers_minmax_sel = X_test_with_outliers_minmax[X_test_with_outliers_sel.columns]\n",
    "X_test_without_outliers_minmax_sel = X_test_without_outliers_minmax[X_test_without_outliers_sel.columns]"
   ]
  },
  {
   "cell_type": "markdown",
   "metadata": {},
   "source": [
    "#### 6.2 Saving the CSV files <a id=\"s62\"></a> "
   ]
  },
  {
   "cell_type": "code",
   "execution_count": 74,
   "metadata": {},
   "outputs": [],
   "source": [
    "dfs_train = {\n",
    "    'X_train_with_outliers_sel': X_train_with_outliers_sel,\n",
    "    'X_train_without_outliers_sel': X_train_without_outliers_sel,\n",
    "    'X_train_with_outliers_norm_sel': X_train_with_outliers_norm_sel,\n",
    "    'X_train_without_outliers_norm_sel': X_train_without_outliers_norm_sel,\n",
    "    'X_train_with_outliers_minmax_sel': X_train_with_outliers_minmax_sel,\n",
    "    'X_train_without_outliers_minmax_sel': X_train_without_outliers_minmax_sel \n",
    "}\n",
    "\n",
    "dfs_test = {\n",
    "    'X_test_with_outliers_sel': X_test_with_outliers_sel,\n",
    "    'X_test_without_outliers_sel': X_test_without_outliers_sel,\n",
    "    'X_test_with_outliers_norm_sel': X_test_with_outliers_norm_sel,\n",
    "    'X_test_without_outliers_norm_sel': X_test_without_outliers_norm_sel,\n",
    "    'X_test_with_outliers_minmax_sel': X_test_with_outliers_minmax_sel,\n",
    "    'X_test_without_outliers_minmax_sel': X_test_without_outliers_minmax_sel    \n",
    "}\n",
    "\n",
    "for name, df in dfs_train.items():\n",
    "    df.to_csv(f\"../data/processed/{name}.csv\", index=False)\n",
    "\n",
    "for name, df in dfs_test.items(): \n",
    "    df.to_csv(f'../data/processed/{name}.csv', index=False)\n",
    "    "
   ]
  },
  {
   "cell_type": "markdown",
   "metadata": {},
   "source": [
    "--------------------------------------------------------"
   ]
  },
  {
   "cell_type": "markdown",
   "metadata": {},
   "source": [
    "## Machine Learning <a class=\"anchor\" id=\"c7\"></a>\n",
    "#### 7.1 Decision Making: Which is the best dataset? <a id=\"s71\"></a> "
   ]
  },
  {
   "cell_type": "code",
   "execution_count": 77,
   "metadata": {},
   "outputs": [],
   "source": [
    "train, test = [], []\n",
    "\n",
    "for name, df in dfs_train.items():\n",
    "    train.append(df)\n",
    "for name, df in dfs_test.items():\n",
    "    test.append(df)"
   ]
  },
  {
   "cell_type": "code",
   "execution_count": 78,
   "metadata": {},
   "outputs": [
    {
     "data": {
      "text/plain": [
       "{'index': 0, 'df_train': 'X_train_with_outliers_sel', 'Accuracy Score': 0.7727}"
      ]
     },
     "execution_count": 78,
     "metadata": {},
     "output_type": "execute_result"
    }
   ],
   "source": [
    "results = []\n",
    "\n",
    "for index in range(len(train)):\n",
    "    model = RandomForestClassifier(random_state=123)\n",
    "    train_df = train[index]\n",
    "    model.fit(train_df, y_train)\n",
    "    y_test_pred = model.predict(test[index])\n",
    "\n",
    "    results.append(\n",
    "        {\n",
    "            'index': index,\n",
    "            'df_train': list(dfs_train.keys())[index],\n",
    "            'Accuracy Score': round(accuracy_score(y_test, y_test_pred),4)         \n",
    "        }\n",
    "    )\n",
    "\n",
    "results = sorted(results, key=lambda x: x['Accuracy Score'], reverse=True)\n",
    "best_ind = results[0]['index']\n",
    "best_df_train = results[0]['df_train']\n",
    "results[0]"
   ]
  },
  {
   "cell_type": "code",
   "execution_count": 79,
   "metadata": {},
   "outputs": [
    {
     "name": "stdout",
     "output_type": "stream",
     "text": [
      "Our best dataframe for our model is X_train_with_outliers_sel, with an Accuracy Score of 0.7727\n"
     ]
    }
   ],
   "source": [
    "print(f'Our best dataframe for our model is {best_df_train}, with an Accuracy Score of {results[0][\"Accuracy Score\"]}')"
   ]
  },
  {
   "cell_type": "markdown",
   "metadata": {},
   "source": [
    "#### 7.2 Model Optimization <a id=\"s72\"></a> "
   ]
  },
  {
   "cell_type": "code",
   "execution_count": 81,
   "metadata": {},
   "outputs": [
    {
     "name": "stdout",
     "output_type": "stream",
     "text": [
      "The best hyperparameters are: {'random_state': 123, 'n_estimators': 1000, 'min_weight_fraction_leaf': 0.015, 'min_samples_split': 2, 'max_depth': 25}\n"
     ]
    }
   ],
   "source": [
    "hyperparams = {\n",
    "    \"n_estimators\": [500, 750, 1000, 1500],\n",
    "    \"max_depth\": [10, 15, 20, 25, None],\n",
    "    \"min_samples_split\": [2, 4, 5, 10],\n",
    "    \"min_weight_fraction_leaf\": [0.01, 0.015, 0.025, 0.05],\n",
    "    \"random_state\": [123]\n",
    "}\n",
    "\n",
    "model = RandomForestClassifier()\n",
    "model.fit(dfs_train.get(best_df_train), y_train)\n",
    "grid = RandomizedSearchCV(model, hyperparams, n_iter=20, scoring=\"accuracy\", cv=10)\n",
    "grid.fit(dfs_train.get(best_df_train), y_train)\n",
    "print(f'The best hyperparameters are: {grid.best_params_}')"
   ]
  },
  {
   "cell_type": "code",
   "execution_count": 83,
   "metadata": {},
   "outputs": [
    {
     "name": "stdout",
     "output_type": "stream",
     "text": [
      "The model accuracy with the hyperparameters is: 80.52%, an increase of 3.25% vs the default model\n"
     ]
    }
   ],
   "source": [
    "model_grid = RandomForestClassifier(random_state=123, max_depth=20, min_samples_split=10, min_weight_fraction_leaf=0.007, n_estimators=500)\n",
    "model_grid.fit(dfs_train.get(best_df_train), y_train)\n",
    "y_pred = model_grid.predict(dfs_test.get(list(dfs_test)[best_ind]))\n",
    "model_grid_accuracy = round(accuracy_score(y_test, y_pred),4)\n",
    "print(f'The model accuracy with the hyperparameters is: {round(model_grid_accuracy*100,2)}%, an increase of {round(model_grid_accuracy-(results[0][\"Accuracy Score\"]),4)*100}% vs the default model')"
   ]
  },
  {
   "cell_type": "code",
   "execution_count": null,
   "metadata": {},
   "outputs": [],
   "source": []
  }
 ],
 "metadata": {
  "kernelspec": {
   "display_name": "Python 3 (ipykernel)",
   "language": "python",
   "name": "python3"
  },
  "language_info": {
   "codemirror_mode": {
    "name": "ipython",
    "version": 3
   },
   "file_extension": ".py",
   "mimetype": "text/x-python",
   "name": "python",
   "nbconvert_exporter": "python",
   "pygments_lexer": "ipython3",
   "version": "3.11.7"
  }
 },
 "nbformat": 4,
 "nbformat_minor": 4
}
